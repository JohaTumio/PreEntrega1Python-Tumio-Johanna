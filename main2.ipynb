{
 "cells": [
  {
   "cell_type": "code",
   "execution_count": null,
   "metadata": {},
   "outputs": [],
   "source": [
    "db = {}"
   ]
  },
  {
   "cell_type": "code",
   "execution_count": null,
   "metadata": {},
   "outputs": [],
   "source": [
    "\n",
    "def cargar_usuarios():\n",
    "    try:\n",
    "        with open(\"./recursos/dataUsuarios.txt\") as file:\n",
    "            for data in file.readlines():\n",
    "                data = data.strip().split(\"|\")\n",
    "                email = data[0]\n",
    "                pwd = data[1]\n",
    "                db.update({email : pwd})\n",
    "    except FileNotFoundError:\n",
    "        pass"
   ]
  },
  {
   "cell_type": "code",
   "execution_count": null,
   "metadata": {},
   "outputs": [],
   "source": [
    "cargar_usuarios()"
   ]
  },
  {
   "cell_type": "code",
   "execution_count": null,
   "metadata": {},
   "outputs": [],
   "source": [
    "def guardar_usuario(email, pwd):\n",
    "    if email not in db:\n",
    "        db[email] = pwd\n",
    "        try:\n",
    "            with open(\"./recursos/dataUsuarios.txt\", \"a\") as file:\n",
    "                file.write(f\"{email}|{pwd}\\n\")\n",
    "                print(\"Registro exitoso. ¡Bienvenido!\")\n",
    "        except FileNotFoundError:\n",
    "            with open(\"./recursos/dataUsuarios.txt\", \"w\") as file:\n",
    "                file.write(f\"{email}|{pwd}\\n\")\n",
    "                print(\"Registro exitoso. ¡Bienvenido!\")\n",
    "    else:\n",
    "        print(\"El usuario ya existe.\")"
   ]
  },
  {
   "cell_type": "code",
   "execution_count": null,
   "metadata": {},
   "outputs": [],
   "source": [
    "def iniciar_sesion(email, pwd):\n",
    "    with open(\"./recursos/dataUsuarios.txt\") as file:\n",
    "        for data in file.readlines():\n",
    "            data = data.strip().split(\"|\")\n",
    "            if data[0] == email and data[1] == pwd:\n",
    "                print(\"Bienvenido\")\n",
    "                return True\n",
    "    print(\"Correo o contraseña incorrecta\")\n",
    "    return False"
   ]
  },
  {
   "cell_type": "code",
   "execution_count": null,
   "metadata": {},
   "outputs": [],
   "source": [
    "def ciclo_de_intentos(max_intentos):\n",
    "    intentos = max_intentos\n",
    "\n",
    "    while intentos > 0:\n",
    "        email = input(\"Correo: \")\n",
    "        pwd = input(\"Contraseña: \")\n",
    "\n",
    "        if iniciar_sesion(email, pwd):\n",
    "            print(\"Sesión iniciada exitosamente.\")\n",
    "            break\n",
    "        else:\n",
    "            intentos -= 1\n",
    "            if intentos > 0:\n",
    "                print(f\"Correo o contraseña incorrecta. Te quedan {intentos} intentos.\")\n",
    "            else:\n",
    "                print(\"Usuario bloqueado.\")"
   ]
  },
  {
   "cell_type": "code",
   "execution_count": null,
   "metadata": {},
   "outputs": [],
   "source": [
    "def registarse():\n",
    "    email = input(\"Correo: \")\n",
    "    pwd = input(\"Contraseña: \")\n",
    "    if len(pwd) < 8:\n",
    "        print(\"La contraseña debe tener al menos 8 caracteres. Registro no completado.\")\n",
    "        return\n",
    "    os.system(\"cls\")\n",
    "    try:\n",
    "        guardar_usuario(email, pwd)\n",
    "    except Exception as e:\n",
    "        print(f\"Hubo un error al intentar registrar: {type(e).__name__}\")\n",
    "        print(\"Inténtalo nuevamente.\")"
   ]
  },
  {
   "cell_type": "code",
   "execution_count": null,
   "metadata": {},
   "outputs": [],
   "source": [
    "def mostrar_usuarios(database):\n",
    "    for usuario, pwd in database.items():\n",
    "        print(f\"Usuario: {usuario} Contraseña: {pwd}\")"
   ]
  },
  {
   "cell_type": "code",
   "execution_count": null,
   "metadata": {},
   "outputs": [],
   "source": [
    "opcion = int(input(\"Digite 1 para iniciar sesion o 2 para registrarse\"))\n",
    "\n",
    "try:\n",
    "    opcion = int(opcion)\n",
    "    if opcion == 1:\n",
    "        print(\"Iniciar Sesion\\n\")\n",
    "        email = input(\"Correo: \")\n",
    "        pwd = input(\"Contraseña: \")\n",
    "        os.system(\"cls\")\n",
    "        if not iniciar_sesion(email,pwd):\n",
    "            ciclo_de_intentos(3)\n",
    "    elif (opcion == 2):\n",
    "        print(\"Registrate\\n\")\n",
    "        registarse()\n",
    "    else:\n",
    "        print(\"Opción Incorrecta\")\n",
    "except ValueError:\n",
    "    print(\"Ingresaste un caracter inválido\")"
   ]
  },
  {
   "cell_type": "code",
   "execution_count": null,
   "metadata": {},
   "outputs": [],
   "source": [
    "mostrar_usuarios(db)"
   ]
  }
 ],
 "metadata": {
  "kernelspec": {
   "display_name": "base",
   "language": "python",
   "name": "python3"
  },
  "language_info": {
   "codemirror_mode": {
    "name": "ipython",
    "version": 3
   },
   "file_extension": ".py",
   "mimetype": "text/x-python",
   "name": "python",
   "nbconvert_exporter": "python",
   "pygments_lexer": "ipython3",
   "version": "3.11.3"
  },
  "orig_nbformat": 4
 },
 "nbformat": 4,
 "nbformat_minor": 2
}
